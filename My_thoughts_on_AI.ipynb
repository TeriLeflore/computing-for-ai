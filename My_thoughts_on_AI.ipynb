{
  "nbformat": 4,
  "nbformat_minor": 0,
  "metadata": {
    "colab": {
      "provenance": [],
      "authorship_tag": "ABX9TyMclEfq+TpGY0hATlHwWlAP",
      "include_colab_link": true
    },
    "kernelspec": {
      "name": "python3",
      "display_name": "Python 3"
    },
    "language_info": {
      "name": "python"
    }
  },
  "cells": [
    {
      "cell_type": "markdown",
      "metadata": {
        "id": "view-in-github",
        "colab_type": "text"
      },
      "source": [
        "<a href=\"https://colab.research.google.com/github/TeriLeflore/computing-for-ai/blob/main/My_thoughts_on_AI.ipynb\" target=\"_parent\"><img src=\"https://colab.research.google.com/assets/colab-badge.svg\" alt=\"Open In Colab\"/></a>"
      ]
    },
    {
      "cell_type": "code",
      "execution_count": null,
      "metadata": {
        "id": "knmDOjTzB0VU"
      },
      "outputs": [],
      "source": []
    },
    {
      "cell_type": "markdown",
      "source": [
        "Things I want to learn in AI\n",
        "\n",
        "Python expert\n",
        "\n",
        "dabble in C++\n",
        "\n",
        "Add it to my resume to get great job"
      ],
      "metadata": {
        "id": "zTDhYIFcDgtw"
      }
    }
  ]
}